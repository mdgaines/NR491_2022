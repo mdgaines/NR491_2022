{
 "cells": [
  {
   "cell_type": "markdown",
   "metadata": {},
   "source": [
    "# Introduction to Remote Sensing, Remote Sensing Time Series Analysis, and Remote Sensing Indices\n",
    "\n",
    "---\n",
    "\n",
    "**Objectives:**\n",
    "\n",
    "By the end of this exercise, you should be able to:\n",
    "* explain what optical data is and give an example of how it is used\n",
    "* explain the difference between remote sensing raster data and other raster data\n",
    "* describe and calculate the Normalized Difference Water Index (NDWI)\n",
    "* describe and plot the changes in NDWI over time\n",
    "\n",
    "---\n",
    "\n",
    "This exercise builds on our raster processes we covered in `exercise2`. In this exercise, we are focusing on a subset of raster data from satellites, known as **remotely sensed** or **optical** data.\n",
    "\n",
    "## Exploring Planet imagery - PlanetScope\n",
    "\n",
    "<img src=\"imgs/image.png\" width=\"650\">\n",
    "\n",
    "The PlanetScope satellite constellation consists of multiple launches of groups of individual “small-satellites” (~200+ in total). Planet's on-orbit capacity is constantly improving in capability or quantity, with technology improvements deployed at a rapid pace. Each PlanetScope satellite is a CubeSat 3U form factor (10 cm by 10 cm by 30 cm). The complete PlanetScope is able to image the entire Earth every day (equating to a daily collection capacity of ~200 million km²/day).\n",
    "\n",
    "In this in-class and homework data activity we will work on the Albemarle-Pamlico sound Peninsula/the Alligator River Basin, a coastal area in NC that is experiencing tree dieback (a.k.a. a ‘ghost forest’). \n",
    "\n",
    "We will be working on with surface reflectance PlanetScope OrthoTiles.\n",
    "\n",
    "### Planet Surface reflectance\n",
    "\n",
    "From Planet's product guide:\n",
    "\n",
    "*\"Planet’s Surface Reflectance (SR) Product is derived from the standard Analytic Product (Radiance) and is\n",
    "processed to top-of-atmosphere reflectance and then atmospherically corrected to bottom-of-atmosphere\n",
    "reflectance. This product ensures consistency across localized atmospheric conditions, minimizing uncertainty\n",
    "in spectral response across time and location.\"*\n",
    "\n",
    "*Surface Reflectance is available for all orthorectified scenes produced by radiometrically calibrated\n",
    "sun-synchronous orbit Dove and RapidEye satellites. The Surface Reflectance product is available in the API as\n",
    "the ‘analytic_sr’ asset under the PSScene4Band, PSOrthoTile, and REOrthoTile Itemtypes.\"*\n",
    "\n",
    "### Planet Scope OrthoTiles\n",
    "\n",
    "From Planet's website:\n",
    "\n",
    "*\"The PlanetScope Analytic Ortho Tile product is orthorectified, multispectral data from the satellite constellation. Analytic products are calibrated multispectral imagery products that have been processed to allow analysts to derive information products for data science and analytics. This product is designed for a wide variety of applications that require imagery with an accurate geolocation and cartographic projection. It has been processed to remove distortions caused by terrain and can be used for many data science and analytic applications. It eliminates the perspective effect on the ground (not on buildings), restoring the geometry of a vertical shot. The orthorectified visual imagery is optimal for value-added image processing including vegetation indices, land cover classifications, etc. In addition to orthorectification, the imagery has radiometric corrections applied to correct for any sensor artifacts and transformation to at- sensor radiance.\"*\n",
    "\n",
    "From Planet's product guide:\n",
    "\n",
    "<img src = \"imgs/conversionOrtho.png\" width = '400'>\n",
    "\n",
    "### More information can be found here:\n",
    "\n",
    "https://www.planet.com/company/resources/\n",
    "\n",
    "\n"
   ]
  },
  {
   "cell_type": "markdown",
   "metadata": {},
   "source": [
    "## Mosaic Multiple PlanetScope orthotiles\n",
    "\n",
    "The data that will be used for this exercise is available in the \"data/folder\". The folder contains suface reflectance Orthotiles from PlanetScope and RapidEye Orthotiles. Load the **SR_clip.tiff** images to QGIS, and you will realize that each image itself does not cover the entire study region, therefore, we need to merge them (i.e. create an image mosaic). \n",
    "\n",
    "In this exercise, we will be using a new package, `earthpy` to help us with our raster visualizations.\n",
    "\n",
    "From EathPy repo website:\n",
    "\n",
    "*\"Python is a generic programming language designed to support many different applications. Because of this, many commonly performed spatial tasks for science including plotting and working with spatial data take many steps of code. EarthPy builds upon the functionality developed for raster data (rasterio) and vector data (geopandas) in Python\"*.\n",
    "\n",
    "#### EarthPy (more info here: https://pypi.org/project/earthpy/)\n"
   ]
  },
  {
   "cell_type": "code",
   "execution_count": null,
   "metadata": {},
   "outputs": [],
   "source": [
    "# import modules\n",
    "import os\n",
    "from glob import glob #here is a very useful package to list files in a folder\n",
    "import rasterio as rio\n",
    "from rasterio.merge import merge\n",
    "from rasterio.plot import show\n",
    "import matplotlib.pyplot as plt\n",
    "import earthpy.plot as ep\n",
    "import earthpy.spatial as es\n",
    "import numpy as np"
   ]
  },
  {
   "cell_type": "code",
   "execution_count": null,
   "metadata": {},
   "outputs": [],
   "source": [
    "# list all PlanetScope imgs\n",
    "PS_imgs = glob(os.path.join(\"data\", \"PlanetScope\", '*SR_clip*.tif')) # note that we are using 2 wildcards here\n",
    "\n",
    "# using an empty list to store the images that we will be reading with rasterio\n",
    "PS_src_imgs = []\n",
    "\n",
    "# lets loop through our list, open and append to PS_src_imgs\n",
    "for img in PS_imgs:\n",
    "    PS_src = rio.open(img)\n",
    "    PS_src_imgs.append(PS_src)\n",
    "    \n",
    "# now we just need to merge the files within the source list using rasterio’s merge function\n",
    "PS_mosaic, PS_out_trans = merge(PS_src_imgs)"
   ]
  },
  {
   "cell_type": "code",
   "execution_count": null,
   "metadata": {},
   "outputs": [],
   "source": [
    "# Copy the metadata\n",
    "PS_out_meta = PS_src_imgs[0].meta.copy()\n",
    "\n",
    "# Update the metadata to save the mosaic\n",
    "PS_out_meta.update({\"driver\": \"GTiff\",\n",
    "                 \"height\": PS_mosaic.shape[1],\n",
    "                 \"width\": PS_mosaic.shape[2],\n",
    "                 \"transform\": PS_out_trans})\n",
    "                 \n",
    "# create path and nome of PS mosaic\n",
    "PS_path_name = \"data/PlanetScope/PS_2019-08-29_mosaic.tif\"\n",
    "with rio.open(PS_path_name, \"w\", **PS_out_meta) as dest:\n",
    "     dest.write(PS_mosaic)"
   ]
  },
  {
   "cell_type": "code",
   "execution_count": null,
   "metadata": {},
   "outputs": [],
   "source": [
    "# get PS_final mosaic source\n",
    "src = rio.open(\"data/PlanetScope/PS_2019-08-29_mosaic.tif\")\n",
    "\n",
    "# create fig and subplots!\n",
    "fig, (axb, axg, axr, axn) = plt.subplots(1,4, figsize=(20,5))\n",
    "show((src, 1), ax=axb, cmap='Blues', title='blue band')\n",
    "show((src, 2), ax=axg, cmap='Greens', title='green band')\n",
    "show((src, 3), ax=axr, cmap='Reds', title='red band')\n",
    "show((src, 4), ax=axn, cmap='Greys', title='nir band')"
   ]
  },
  {
   "cell_type": "code",
   "execution_count": null,
   "metadata": {},
   "outputs": [],
   "source": [
    "with rio.open(\"data/PlanetScope/PS_2019-08-29_mosaic.tif\") as src:\n",
    "    img_array = src.read()\n",
    "# Ensure the input array doesn't have nodata values like -9999\n",
    "# Use stretch = True\n",
    "ep.plot_rgb(img_array,rgb=(2, 1, 0),stretch=True, title = \"PS_2019-08-29_mosaic - RGB\")"
   ]
  },
  {
   "cell_type": "markdown",
   "metadata": {},
   "source": [
    "Water classification using band-ratio (Normalized Difference Water Index) combined with Otsu Thresholding.\n",
    "\n",
    "The Normalized Difference Water Index (NDWI) is defined as follows:\n",
    "\n",
    "**NDWI = (GREEN - NIR)/ (GREEN + NIR)**\n",
    "\n",
    "Values closer to 1 represent water pixels, and values closer -1 represent non-water pixels"
   ]
  },
  {
   "cell_type": "code",
   "execution_count": null,
   "metadata": {},
   "outputs": [],
   "source": [
    "# Open the raster file in read mode\n",
    "PS_final = rio.open(\"data/PlanetScope/PS_2019-08-29_mosaic.tif\")\n",
    "\n",
    "# Metadata\n",
    "PS_meta = PS_final.profile\n",
    "\n",
    "# Read green and convert to float\n",
    "PS_g = PS_final.read(2).astype('f4')\n",
    "\n",
    "# Read NIR and convert to float\n",
    "PS_nir = PS_final.read(4).astype('f4')\n",
    "\n",
    "#calculate NDWI\n",
    "PS_ndwi = (PS_g - PS_nir) / (PS_g + PS_nir)\n"
   ]
  },
  {
   "cell_type": "code",
   "execution_count": null,
   "metadata": {},
   "outputs": [],
   "source": [
    "# let's plot using EarthPy functions\n",
    "ep.hist(PS_ndwi,colors=[\"grey\"],figsize=(6, 4), title=\"PS NDWI distribution\", bins = 40)\n",
    "ep.plot_bands(PS_ndwi, \n",
    "              cmap='YlGnBu',\n",
    "              scale=False,\n",
    "              vmin=np.nanmin(PS_ndwi), vmax=0.25, # I set vnax after checking the histogram;\n",
    "              title=\"PS NDWI\",figsize=(5, 5))\n",
    "plt.show()"
   ]
  }
 ],
 "metadata": {
  "language_info": {
   "name": "python"
  },
  "orig_nbformat": 4
 },
 "nbformat": 4,
 "nbformat_minor": 2
}
